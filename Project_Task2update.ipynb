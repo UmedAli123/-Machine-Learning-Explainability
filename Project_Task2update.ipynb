{
  "cells": [
    {
      "cell_type": "markdown",
      "metadata": {
        "id": "view-in-github",
        "colab_type": "text"
      },
      "source": [
        "<a href=\"https://colab.research.google.com/github/UmedAli123/-Machine-Learning-Explainability/blob/main/Project_Task2update.ipynb\" target=\"_parent\"><img src=\"https://colab.research.google.com/assets/colab-badge.svg\" alt=\"Open In Colab\"/></a>"
      ]
    },
    {
      "cell_type": "code",
      "execution_count": null,
      "id": "bb54380f",
      "metadata": {
        "id": "bb54380f"
      },
      "outputs": [],
      "source": [
        "# required libraries;\n",
        "import pandas as pd\n",
        "import numpy as np"
      ]
    },
    {
      "cell_type": "code",
      "execution_count": null,
      "id": "43a5eaa5",
      "metadata": {
        "id": "43a5eaa5"
      },
      "outputs": [],
      "source": [
        "train_data=pd.read_csv('train.csv')\n",
        "test_data=pd.read_csv('test.csv')"
      ]
    },
    {
      "cell_type": "code",
      "execution_count": null,
      "id": "a82a5b63",
      "metadata": {
        "id": "a82a5b63",
        "outputId": "14678f0b-9a10-4610-b894-56fb044cbc3f"
      },
      "outputs": [
        {
          "data": {
            "text/html": [
              "<div>\n",
              "<style scoped>\n",
              "    .dataframe tbody tr th:only-of-type {\n",
              "        vertical-align: middle;\n",
              "    }\n",
              "\n",
              "    .dataframe tbody tr th {\n",
              "        vertical-align: top;\n",
              "    }\n",
              "\n",
              "    .dataframe thead th {\n",
              "        text-align: right;\n",
              "    }\n",
              "</style>\n",
              "<table border=\"1\" class=\"dataframe\">\n",
              "  <thead>\n",
              "    <tr style=\"text-align: right;\">\n",
              "      <th></th>\n",
              "      <th>Unnamed: 0</th>\n",
              "      <th>id</th>\n",
              "      <th>Gender</th>\n",
              "      <th>Customer Type</th>\n",
              "      <th>Age</th>\n",
              "      <th>Type of Travel</th>\n",
              "      <th>Class</th>\n",
              "      <th>Flight Distance</th>\n",
              "      <th>Inflight wifi service</th>\n",
              "      <th>Departure/Arrival time convenient</th>\n",
              "      <th>...</th>\n",
              "      <th>Inflight entertainment</th>\n",
              "      <th>On-board service</th>\n",
              "      <th>Leg room service</th>\n",
              "      <th>Baggage handling</th>\n",
              "      <th>Checkin service</th>\n",
              "      <th>Inflight service</th>\n",
              "      <th>Cleanliness</th>\n",
              "      <th>Departure Delay in Minutes</th>\n",
              "      <th>Arrival Delay in Minutes</th>\n",
              "      <th>satisfaction</th>\n",
              "    </tr>\n",
              "  </thead>\n",
              "  <tbody>\n",
              "    <tr>\n",
              "      <th>25621</th>\n",
              "      <td>25621</td>\n",
              "      <td>21884</td>\n",
              "      <td>Male</td>\n",
              "      <td>Loyal Customer</td>\n",
              "      <td>41</td>\n",
              "      <td>Business travel</td>\n",
              "      <td>Business</td>\n",
              "      <td>3340</td>\n",
              "      <td>1</td>\n",
              "      <td>1</td>\n",
              "      <td>...</td>\n",
              "      <td>4</td>\n",
              "      <td>4</td>\n",
              "      <td>4</td>\n",
              "      <td>4</td>\n",
              "      <td>2</td>\n",
              "      <td>4</td>\n",
              "      <td>5</td>\n",
              "      <td>0</td>\n",
              "      <td>0.0</td>\n",
              "      <td>satisfied</td>\n",
              "    </tr>\n",
              "    <tr>\n",
              "      <th>43526</th>\n",
              "      <td>43526</td>\n",
              "      <td>60509</td>\n",
              "      <td>Female</td>\n",
              "      <td>Loyal Customer</td>\n",
              "      <td>36</td>\n",
              "      <td>Personal Travel</td>\n",
              "      <td>Eco</td>\n",
              "      <td>862</td>\n",
              "      <td>2</td>\n",
              "      <td>4</td>\n",
              "      <td>...</td>\n",
              "      <td>4</td>\n",
              "      <td>4</td>\n",
              "      <td>4</td>\n",
              "      <td>4</td>\n",
              "      <td>4</td>\n",
              "      <td>5</td>\n",
              "      <td>4</td>\n",
              "      <td>0</td>\n",
              "      <td>2.0</td>\n",
              "      <td>neutral or dissatisfied</td>\n",
              "    </tr>\n",
              "    <tr>\n",
              "      <th>99552</th>\n",
              "      <td>99552</td>\n",
              "      <td>2774</td>\n",
              "      <td>Male</td>\n",
              "      <td>Loyal Customer</td>\n",
              "      <td>57</td>\n",
              "      <td>Business travel</td>\n",
              "      <td>Business</td>\n",
              "      <td>764</td>\n",
              "      <td>5</td>\n",
              "      <td>5</td>\n",
              "      <td>...</td>\n",
              "      <td>4</td>\n",
              "      <td>4</td>\n",
              "      <td>4</td>\n",
              "      <td>4</td>\n",
              "      <td>4</td>\n",
              "      <td>4</td>\n",
              "      <td>5</td>\n",
              "      <td>0</td>\n",
              "      <td>0.0</td>\n",
              "      <td>satisfied</td>\n",
              "    </tr>\n",
              "    <tr>\n",
              "      <th>68337</th>\n",
              "      <td>68337</td>\n",
              "      <td>115891</td>\n",
              "      <td>Male</td>\n",
              "      <td>Loyal Customer</td>\n",
              "      <td>37</td>\n",
              "      <td>Business travel</td>\n",
              "      <td>Business</td>\n",
              "      <td>417</td>\n",
              "      <td>2</td>\n",
              "      <td>2</td>\n",
              "      <td>...</td>\n",
              "      <td>5</td>\n",
              "      <td>5</td>\n",
              "      <td>5</td>\n",
              "      <td>5</td>\n",
              "      <td>5</td>\n",
              "      <td>5</td>\n",
              "      <td>4</td>\n",
              "      <td>70</td>\n",
              "      <td>56.0</td>\n",
              "      <td>satisfied</td>\n",
              "    </tr>\n",
              "    <tr>\n",
              "      <th>90764</th>\n",
              "      <td>90764</td>\n",
              "      <td>44733</td>\n",
              "      <td>Male</td>\n",
              "      <td>Loyal Customer</td>\n",
              "      <td>53</td>\n",
              "      <td>Business travel</td>\n",
              "      <td>Eco Plus</td>\n",
              "      <td>67</td>\n",
              "      <td>4</td>\n",
              "      <td>3</td>\n",
              "      <td>...</td>\n",
              "      <td>4</td>\n",
              "      <td>2</td>\n",
              "      <td>2</td>\n",
              "      <td>3</td>\n",
              "      <td>1</td>\n",
              "      <td>1</td>\n",
              "      <td>4</td>\n",
              "      <td>7</td>\n",
              "      <td>10.0</td>\n",
              "      <td>satisfied</td>\n",
              "    </tr>\n",
              "  </tbody>\n",
              "</table>\n",
              "<p>5 rows × 25 columns</p>\n",
              "</div>"
            ],
            "text/plain": [
              "       Unnamed: 0      id  Gender   Customer Type  Age   Type of Travel  \\\n",
              "25621       25621   21884    Male  Loyal Customer   41  Business travel   \n",
              "43526       43526   60509  Female  Loyal Customer   36  Personal Travel   \n",
              "99552       99552    2774    Male  Loyal Customer   57  Business travel   \n",
              "68337       68337  115891    Male  Loyal Customer   37  Business travel   \n",
              "90764       90764   44733    Male  Loyal Customer   53  Business travel   \n",
              "\n",
              "          Class  Flight Distance  Inflight wifi service  \\\n",
              "25621  Business             3340                      1   \n",
              "43526       Eco              862                      2   \n",
              "99552  Business              764                      5   \n",
              "68337  Business              417                      2   \n",
              "90764  Eco Plus               67                      4   \n",
              "\n",
              "       Departure/Arrival time convenient  ...  Inflight entertainment  \\\n",
              "25621                                  1  ...                       4   \n",
              "43526                                  4  ...                       4   \n",
              "99552                                  5  ...                       4   \n",
              "68337                                  2  ...                       5   \n",
              "90764                                  3  ...                       4   \n",
              "\n",
              "       On-board service  Leg room service  Baggage handling  Checkin service  \\\n",
              "25621                 4                 4                 4                2   \n",
              "43526                 4                 4                 4                4   \n",
              "99552                 4                 4                 4                4   \n",
              "68337                 5                 5                 5                5   \n",
              "90764                 2                 2                 3                1   \n",
              "\n",
              "       Inflight service  Cleanliness  Departure Delay in Minutes  \\\n",
              "25621                 4            5                           0   \n",
              "43526                 5            4                           0   \n",
              "99552                 4            5                           0   \n",
              "68337                 5            4                          70   \n",
              "90764                 1            4                           7   \n",
              "\n",
              "       Arrival Delay in Minutes             satisfaction  \n",
              "25621                       0.0                satisfied  \n",
              "43526                       2.0  neutral or dissatisfied  \n",
              "99552                       0.0                satisfied  \n",
              "68337                      56.0                satisfied  \n",
              "90764                      10.0                satisfied  \n",
              "\n",
              "[5 rows x 25 columns]"
            ]
          },
          "execution_count": 3,
          "metadata": {},
          "output_type": "execute_result"
        }
      ],
      "source": [
        "train_data.sample(5)"
      ]
    },
    {
      "cell_type": "code",
      "execution_count": null,
      "id": "b42bd9e7",
      "metadata": {
        "id": "b42bd9e7",
        "outputId": "d3ae3084-e84f-470a-aec7-b6fe7f8d4b16"
      },
      "outputs": [
        {
          "data": {
            "text/html": [
              "<div>\n",
              "<style scoped>\n",
              "    .dataframe tbody tr th:only-of-type {\n",
              "        vertical-align: middle;\n",
              "    }\n",
              "\n",
              "    .dataframe tbody tr th {\n",
              "        vertical-align: top;\n",
              "    }\n",
              "\n",
              "    .dataframe thead th {\n",
              "        text-align: right;\n",
              "    }\n",
              "</style>\n",
              "<table border=\"1\" class=\"dataframe\">\n",
              "  <thead>\n",
              "    <tr style=\"text-align: right;\">\n",
              "      <th></th>\n",
              "      <th>Unnamed: 0</th>\n",
              "      <th>id</th>\n",
              "      <th>Gender</th>\n",
              "      <th>Customer Type</th>\n",
              "      <th>Age</th>\n",
              "      <th>Type of Travel</th>\n",
              "      <th>Class</th>\n",
              "      <th>Flight Distance</th>\n",
              "      <th>Inflight wifi service</th>\n",
              "      <th>Departure/Arrival time convenient</th>\n",
              "      <th>...</th>\n",
              "      <th>Inflight entertainment</th>\n",
              "      <th>On-board service</th>\n",
              "      <th>Leg room service</th>\n",
              "      <th>Baggage handling</th>\n",
              "      <th>Checkin service</th>\n",
              "      <th>Inflight service</th>\n",
              "      <th>Cleanliness</th>\n",
              "      <th>Departure Delay in Minutes</th>\n",
              "      <th>Arrival Delay in Minutes</th>\n",
              "      <th>satisfaction</th>\n",
              "    </tr>\n",
              "  </thead>\n",
              "  <tbody>\n",
              "    <tr>\n",
              "      <th>17472</th>\n",
              "      <td>17472</td>\n",
              "      <td>52465</td>\n",
              "      <td>Male</td>\n",
              "      <td>Loyal Customer</td>\n",
              "      <td>34</td>\n",
              "      <td>Business travel</td>\n",
              "      <td>Eco Plus</td>\n",
              "      <td>370</td>\n",
              "      <td>2</td>\n",
              "      <td>1</td>\n",
              "      <td>...</td>\n",
              "      <td>2</td>\n",
              "      <td>4</td>\n",
              "      <td>1</td>\n",
              "      <td>3</td>\n",
              "      <td>4</td>\n",
              "      <td>3</td>\n",
              "      <td>2</td>\n",
              "      <td>0</td>\n",
              "      <td>0.0</td>\n",
              "      <td>neutral or dissatisfied</td>\n",
              "    </tr>\n",
              "    <tr>\n",
              "      <th>15199</th>\n",
              "      <td>15199</td>\n",
              "      <td>99850</td>\n",
              "      <td>Female</td>\n",
              "      <td>Loyal Customer</td>\n",
              "      <td>62</td>\n",
              "      <td>Personal Travel</td>\n",
              "      <td>Eco</td>\n",
              "      <td>468</td>\n",
              "      <td>2</td>\n",
              "      <td>4</td>\n",
              "      <td>...</td>\n",
              "      <td>1</td>\n",
              "      <td>1</td>\n",
              "      <td>2</td>\n",
              "      <td>1</td>\n",
              "      <td>3</td>\n",
              "      <td>1</td>\n",
              "      <td>3</td>\n",
              "      <td>2</td>\n",
              "      <td>18.0</td>\n",
              "      <td>neutral or dissatisfied</td>\n",
              "    </tr>\n",
              "    <tr>\n",
              "      <th>12382</th>\n",
              "      <td>12382</td>\n",
              "      <td>107184</td>\n",
              "      <td>Female</td>\n",
              "      <td>disloyal Customer</td>\n",
              "      <td>34</td>\n",
              "      <td>Business travel</td>\n",
              "      <td>Eco</td>\n",
              "      <td>668</td>\n",
              "      <td>2</td>\n",
              "      <td>1</td>\n",
              "      <td>...</td>\n",
              "      <td>3</td>\n",
              "      <td>1</td>\n",
              "      <td>4</td>\n",
              "      <td>4</td>\n",
              "      <td>3</td>\n",
              "      <td>4</td>\n",
              "      <td>3</td>\n",
              "      <td>0</td>\n",
              "      <td>0.0</td>\n",
              "      <td>neutral or dissatisfied</td>\n",
              "    </tr>\n",
              "    <tr>\n",
              "      <th>24938</th>\n",
              "      <td>24938</td>\n",
              "      <td>52679</td>\n",
              "      <td>Male</td>\n",
              "      <td>Loyal Customer</td>\n",
              "      <td>49</td>\n",
              "      <td>Personal Travel</td>\n",
              "      <td>Eco</td>\n",
              "      <td>160</td>\n",
              "      <td>1</td>\n",
              "      <td>4</td>\n",
              "      <td>...</td>\n",
              "      <td>5</td>\n",
              "      <td>5</td>\n",
              "      <td>2</td>\n",
              "      <td>4</td>\n",
              "      <td>3</td>\n",
              "      <td>5</td>\n",
              "      <td>5</td>\n",
              "      <td>4</td>\n",
              "      <td>1.0</td>\n",
              "      <td>neutral or dissatisfied</td>\n",
              "    </tr>\n",
              "    <tr>\n",
              "      <th>17705</th>\n",
              "      <td>17705</td>\n",
              "      <td>40790</td>\n",
              "      <td>Female</td>\n",
              "      <td>Loyal Customer</td>\n",
              "      <td>47</td>\n",
              "      <td>Business travel</td>\n",
              "      <td>Eco</td>\n",
              "      <td>588</td>\n",
              "      <td>3</td>\n",
              "      <td>1</td>\n",
              "      <td>...</td>\n",
              "      <td>3</td>\n",
              "      <td>3</td>\n",
              "      <td>3</td>\n",
              "      <td>3</td>\n",
              "      <td>3</td>\n",
              "      <td>3</td>\n",
              "      <td>2</td>\n",
              "      <td>0</td>\n",
              "      <td>9.0</td>\n",
              "      <td>satisfied</td>\n",
              "    </tr>\n",
              "  </tbody>\n",
              "</table>\n",
              "<p>5 rows × 25 columns</p>\n",
              "</div>"
            ],
            "text/plain": [
              "       Unnamed: 0      id  Gender      Customer Type  Age   Type of Travel  \\\n",
              "17472       17472   52465    Male     Loyal Customer   34  Business travel   \n",
              "15199       15199   99850  Female     Loyal Customer   62  Personal Travel   \n",
              "12382       12382  107184  Female  disloyal Customer   34  Business travel   \n",
              "24938       24938   52679    Male     Loyal Customer   49  Personal Travel   \n",
              "17705       17705   40790  Female     Loyal Customer   47  Business travel   \n",
              "\n",
              "          Class  Flight Distance  Inflight wifi service  \\\n",
              "17472  Eco Plus              370                      2   \n",
              "15199       Eco              468                      2   \n",
              "12382       Eco              668                      2   \n",
              "24938       Eco              160                      1   \n",
              "17705       Eco              588                      3   \n",
              "\n",
              "       Departure/Arrival time convenient  ...  Inflight entertainment  \\\n",
              "17472                                  1  ...                       2   \n",
              "15199                                  4  ...                       1   \n",
              "12382                                  1  ...                       3   \n",
              "24938                                  4  ...                       5   \n",
              "17705                                  1  ...                       3   \n",
              "\n",
              "       On-board service  Leg room service  Baggage handling  Checkin service  \\\n",
              "17472                 4                 1                 3                4   \n",
              "15199                 1                 2                 1                3   \n",
              "12382                 1                 4                 4                3   \n",
              "24938                 5                 2                 4                3   \n",
              "17705                 3                 3                 3                3   \n",
              "\n",
              "       Inflight service  Cleanliness  Departure Delay in Minutes  \\\n",
              "17472                 3            2                           0   \n",
              "15199                 1            3                           2   \n",
              "12382                 4            3                           0   \n",
              "24938                 5            5                           4   \n",
              "17705                 3            2                           0   \n",
              "\n",
              "       Arrival Delay in Minutes             satisfaction  \n",
              "17472                       0.0  neutral or dissatisfied  \n",
              "15199                      18.0  neutral or dissatisfied  \n",
              "12382                       0.0  neutral or dissatisfied  \n",
              "24938                       1.0  neutral or dissatisfied  \n",
              "17705                       9.0                satisfied  \n",
              "\n",
              "[5 rows x 25 columns]"
            ]
          },
          "execution_count": 4,
          "metadata": {},
          "output_type": "execute_result"
        }
      ],
      "source": [
        "test_data.sample(5)"
      ]
    },
    {
      "cell_type": "code",
      "execution_count": null,
      "id": "bd6fc3fe",
      "metadata": {
        "id": "bd6fc3fe",
        "outputId": "41a2f7b3-4b16-441c-9e8a-830dd7a8faf2"
      },
      "outputs": [
        {
          "name": "stdout",
          "output_type": "stream",
          "text": [
            "Null values in train_data 310\n",
            "Null values in test_data 83\n"
          ]
        }
      ],
      "source": [
        "# check null values for test and train data:\n",
        "print('Null values in train_data',train_data.isnull().sum().sum())\n",
        "print('Null values in test_data',test_data.isnull().sum().sum())"
      ]
    },
    {
      "cell_type": "code",
      "execution_count": null,
      "id": "b4db3006",
      "metadata": {
        "id": "b4db3006"
      },
      "outputs": [],
      "source": [
        "# fill the missing values in the train and test data:\n",
        "train_data['Arrival Delay in Minutes']=train_data['Arrival Delay in Minutes'].fillna(train_data['Arrival Delay in Minutes'].mean())\n",
        "test_data['Arrival Delay in Minutes']=test_data['Arrival Delay in Minutes'].fillna(test_data['Arrival Delay in Minutes'].mean())"
      ]
    },
    {
      "cell_type": "code",
      "execution_count": null,
      "id": "3d2c9fa7",
      "metadata": {
        "id": "3d2c9fa7"
      },
      "outputs": [],
      "source": [
        "# Encode the categorical to numerical columns of train data:\n",
        "from sklearn.preprocessing import LabelEncoder\n",
        "le=LabelEncoder()\n",
        "train_data['Gender']=le.fit_transform(train_data['Gender'])\n",
        "train_data['Customer Type']=le.fit_transform(train_data['Customer Type'])\n",
        "train_data['Type of Travel']=le.fit_transform(train_data['Type of Travel'])\n",
        "train_data['Class']=le.fit_transform(train_data['Class'])\n",
        "train_data['satisfaction']=le.fit_transform(train_data['satisfaction'])"
      ]
    },
    {
      "cell_type": "code",
      "execution_count": null,
      "id": "0c9d70ac",
      "metadata": {
        "id": "0c9d70ac"
      },
      "outputs": [],
      "source": [
        "# Encode the categorical to numerical columns of test data:\n",
        "test_data['Gender']=le.fit_transform(test_data['Gender'])\n",
        "test_data['Customer Type']=le.fit_transform(test_data['Customer Type'])\n",
        "test_data['Type of Travel']=le.fit_transform(test_data['Type of Travel'])\n",
        "test_data['Class']=le.fit_transform(test_data['Class'])\n",
        "test_data['satisfaction']=le.fit_transform(test_data['satisfaction'])"
      ]
    },
    {
      "cell_type": "code",
      "execution_count": null,
      "id": "4a60d4b3",
      "metadata": {
        "id": "4a60d4b3",
        "outputId": "dac7a2be-2ef8-4a35-b7b0-55bad05e7e59"
      },
      "outputs": [
        {
          "data": {
            "text/plain": [
              "Unnamed: 0                             int64\n",
              "id                                     int64\n",
              "Gender                                 int32\n",
              "Customer Type                          int32\n",
              "Age                                    int64\n",
              "Type of Travel                         int32\n",
              "Class                                  int32\n",
              "Flight Distance                        int64\n",
              "Inflight wifi service                  int64\n",
              "Departure/Arrival time convenient      int64\n",
              "Ease of Online booking                 int64\n",
              "Gate location                          int64\n",
              "Food and drink                         int64\n",
              "Online boarding                        int64\n",
              "Seat comfort                           int64\n",
              "Inflight entertainment                 int64\n",
              "On-board service                       int64\n",
              "Leg room service                       int64\n",
              "Baggage handling                       int64\n",
              "Checkin service                        int64\n",
              "Inflight service                       int64\n",
              "Cleanliness                            int64\n",
              "Departure Delay in Minutes             int64\n",
              "Arrival Delay in Minutes             float64\n",
              "satisfaction                           int32\n",
              "dtype: object"
            ]
          },
          "execution_count": 9,
          "metadata": {},
          "output_type": "execute_result"
        }
      ],
      "source": [
        " train_data.dtypes"
      ]
    },
    {
      "cell_type": "code",
      "execution_count": null,
      "id": "fbecaa75",
      "metadata": {
        "id": "fbecaa75",
        "outputId": "a11aa9f3-bab2-46ec-f6d9-726c6cf28533"
      },
      "outputs": [
        {
          "data": {
            "text/plain": [
              "Unnamed: 0                             int64\n",
              "id                                     int64\n",
              "Gender                                 int32\n",
              "Customer Type                          int32\n",
              "Age                                    int64\n",
              "Type of Travel                         int32\n",
              "Class                                  int32\n",
              "Flight Distance                        int64\n",
              "Inflight wifi service                  int64\n",
              "Departure/Arrival time convenient      int64\n",
              "Ease of Online booking                 int64\n",
              "Gate location                          int64\n",
              "Food and drink                         int64\n",
              "Online boarding                        int64\n",
              "Seat comfort                           int64\n",
              "Inflight entertainment                 int64\n",
              "On-board service                       int64\n",
              "Leg room service                       int64\n",
              "Baggage handling                       int64\n",
              "Checkin service                        int64\n",
              "Inflight service                       int64\n",
              "Cleanliness                            int64\n",
              "Departure Delay in Minutes             int64\n",
              "Arrival Delay in Minutes             float64\n",
              "satisfaction                           int32\n",
              "dtype: object"
            ]
          },
          "execution_count": 10,
          "metadata": {},
          "output_type": "execute_result"
        }
      ],
      "source": [
        "test_data.dtypes"
      ]
    },
    {
      "cell_type": "code",
      "execution_count": null,
      "id": "5c5276f3",
      "metadata": {
        "id": "5c5276f3"
      },
      "outputs": [],
      "source": [
        "# drop irrelevant columns from training and testing data:\n",
        "train_data.drop(['Unnamed: 0','id'],axis=1,inplace=True)\n",
        "test_data.drop(['Unnamed: 0','id'],axis=1,inplace=True)"
      ]
    },
    {
      "cell_type": "code",
      "execution_count": null,
      "id": "462e0ebb",
      "metadata": {
        "id": "462e0ebb"
      },
      "outputs": [],
      "source": [
        "# independent features and dependent features:\n",
        "x=train_data.drop(['Flight Distance'],axis=1)\n",
        "y=train_data['Flight Distance']"
      ]
    },
    {
      "cell_type": "code",
      "execution_count": null,
      "id": "555e3017",
      "metadata": {
        "id": "555e3017"
      },
      "outputs": [],
      "source": [
        "# spliting the data\n",
        "from sklearn.model_selection import train_test_split\n",
        "xtrain,xtest,ytrain,ytest=train_test_split(x,y,test_size=0.1,random_state=100)"
      ]
    },
    {
      "cell_type": "markdown",
      "id": "756d020d",
      "metadata": {
        "id": "756d020d"
      },
      "source": [
        "# OLS Model"
      ]
    },
    {
      "cell_type": "code",
      "execution_count": null,
      "id": "137d2c31",
      "metadata": {
        "id": "137d2c31"
      },
      "outputs": [],
      "source": [
        "from statsmodels.api import OLS\n",
        "model = OLS(ytrain, xtrain)\n",
        "model_fit = model.fit()"
      ]
    },
    {
      "cell_type": "code",
      "execution_count": null,
      "id": "5f227071",
      "metadata": {
        "id": "5f227071"
      },
      "outputs": [],
      "source": [
        "# predict the model on testing data\n",
        "X=test_data.drop(['Flight Distance'],axis=1)\n",
        "Y=test_data['Flight Distance']"
      ]
    },
    {
      "cell_type": "code",
      "execution_count": null,
      "id": "c594b0ee",
      "metadata": {
        "id": "c594b0ee"
      },
      "outputs": [],
      "source": [
        "from sklearn.model_selection import train_test_split\n",
        "Xtrain,Xtest,Ytrain,Ytest=train_test_split(X,Y,test_size=0.3,random_state=50)"
      ]
    },
    {
      "cell_type": "code",
      "execution_count": null,
      "id": "e99c42e7",
      "metadata": {
        "id": "e99c42e7"
      },
      "outputs": [],
      "source": [
        "# predict the flight distance\n",
        "predictions = model_fit.predict(Xtest)"
      ]
    },
    {
      "cell_type": "code",
      "execution_count": null,
      "id": "35a9ca50",
      "metadata": {
        "id": "35a9ca50",
        "outputId": "d1f798b3-42be-453e-8871-95f3a809046d"
      },
      "outputs": [
        {
          "name": "stdout",
          "output_type": "stream",
          "text": [
            "MSE: 789660.9246723562\n"
          ]
        }
      ],
      "source": [
        "mse = np.mean((Ytest - predictions)**2)\n",
        "print(\"MSE:\", mse)"
      ]
    },
    {
      "cell_type": "code",
      "execution_count": null,
      "id": "c287017b",
      "metadata": {
        "scrolled": true,
        "id": "c287017b",
        "outputId": "185561c9-c7d0-4118-9a0a-2b1065f21a35"
      },
      "outputs": [
        {
          "name": "stdout",
          "output_type": "stream",
          "text": [
            "R-squared: 0.6715199317691235\n"
          ]
        }
      ],
      "source": [
        "# score of model\n",
        "r2 = model_fit.rsquared\n",
        "print(\"R-squared:\", r2)"
      ]
    },
    {
      "cell_type": "code",
      "source": [
        "\n",
        "import matplotlib.pyplot as plt\n",
        "# Residual plot\n",
        "residuals = Ytest - predictions\n",
        "plt.scatter(predictions, residuals)\n",
        "plt.axhline(y=0, color='r', linestyle='--')\n",
        "plt.title('Residual Plot')\n",
        "plt.xlabel('Predicted Values')\n",
        "plt.ylabel('Residuals')\n",
        "plt.show()"
      ],
      "metadata": {
        "id": "moSNSC2kRkJD"
      },
      "id": "moSNSC2kRkJD",
      "execution_count": null,
      "outputs": []
    },
    {
      "cell_type": "code",
      "source": [
        "\n",
        "# Actual vs Predicted graph\n",
        "plt.scatter(Ytest, predictions)\n",
        "plt.plot([min(Ytest), max(Ytest)], [min(Ytest), max(Ytest)], '--', color='red')\n",
        "plt.title('Actual vs Predicted')\n",
        "plt.xlabel('Actual Values')\n",
        "plt.ylabel('Predicted Values')\n",
        "plt.show()"
      ],
      "metadata": {
        "id": "GdRYCM8ERv93"
      },
      "id": "GdRYCM8ERv93",
      "execution_count": null,
      "outputs": []
    },
    {
      "cell_type": "markdown",
      "id": "adc0b7ba",
      "metadata": {
        "id": "adc0b7ba"
      },
      "source": [
        "# Coefficients of columns:"
      ]
    },
    {
      "cell_type": "code",
      "execution_count": null,
      "id": "a33d0bd5",
      "metadata": {
        "scrolled": false,
        "id": "a33d0bd5",
        "outputId": "7589a5e6-657f-45ee-e297-d8524e14df5e"
      },
      "outputs": [
        {
          "name": "stdout",
          "output_type": "stream",
          "text": [
            "Coefficients:\n",
            " Gender                                55.993283\n",
            "Customer Type                       -518.841882\n",
            "Age                                    4.255639\n",
            "Type of Travel                      -367.517925\n",
            "Class                               -339.907920\n",
            "Inflight wifi service                -81.903557\n",
            "Departure/Arrival time convenient      8.997714\n",
            "Ease of Online booking                40.623493\n",
            "Gate location                         66.443929\n",
            "Food and drink                        46.622668\n",
            "Online boarding                       83.300210\n",
            "Seat comfort                          46.798821\n",
            "Inflight entertainment               -59.905119\n",
            "On-board service                      34.311550\n",
            "Leg room service                      69.283732\n",
            "Baggage handling                      46.379315\n",
            "Checkin service                       32.851333\n",
            "Inflight service                      46.436431\n",
            "Cleanliness                           28.308848\n",
            "Departure Delay in Minutes             1.046906\n",
            "Arrival Delay in Minutes              -0.485780\n",
            "satisfaction                         -34.112041\n",
            "dtype: float64\n"
          ]
        }
      ],
      "source": [
        "# coefficents for features\n",
        "print(\"Coefficients:\\n\", model_fit.params)"
      ]
    },
    {
      "cell_type": "code",
      "execution_count": null,
      "id": "f68cfb39",
      "metadata": {
        "id": "f68cfb39"
      },
      "outputs": [],
      "source": []
    },
    {
      "cell_type": "markdown",
      "id": "5b259cfa",
      "metadata": {
        "id": "5b259cfa"
      },
      "source": [
        "# Pvalues of featues"
      ]
    },
    {
      "cell_type": "code",
      "execution_count": null,
      "id": "204e3c4d",
      "metadata": {
        "scrolled": false,
        "id": "204e3c4d",
        "outputId": "c38dd1b9-9802-4000-a0db-4f92f53606e2"
      },
      "outputs": [
        {
          "data": {
            "text/plain": [
              "Gender                                5.535631e-22\n",
              "Customer Type                         0.000000e+00\n",
              "Age                                  3.064551e-110\n",
              "Type of Travel                        0.000000e+00\n",
              "Class                                 0.000000e+00\n",
              "Inflight wifi service                1.300585e-122\n",
              "Departure/Arrival time convenient     2.773961e-04\n",
              "Ease of Online booking                4.256169e-32\n",
              "Gate location                        6.797923e-134\n",
              "Food and drink                        2.573760e-49\n",
              "Online boarding                      5.246564e-162\n",
              "Seat comfort                          2.478803e-43\n",
              "Inflight entertainment                3.045065e-45\n",
              "On-board service                      3.710580e-30\n",
              "Leg room service                     1.877910e-168\n",
              "Baggage handling                      1.488900e-43\n",
              "Checkin service                       3.774506e-38\n",
              "Inflight service                      4.877363e-40\n",
              "Cleanliness                           4.761061e-14\n",
              "Departure Delay in Minutes            1.486068e-04\n",
              "Arrival Delay in Minutes              7.521791e-02\n",
              "satisfaction                          9.571129e-05\n",
              "dtype: float64"
            ]
          },
          "execution_count": 21,
          "metadata": {},
          "output_type": "execute_result"
        }
      ],
      "source": [
        "# model pvalues\n",
        "p_values = model_fit.pvalues\n",
        "p_values"
      ]
    },
    {
      "cell_type": "code",
      "execution_count": null,
      "id": "ae3b8a03",
      "metadata": {
        "id": "ae3b8a03"
      },
      "outputs": [],
      "source": []
    },
    {
      "cell_type": "markdown",
      "id": "d9db691a",
      "metadata": {
        "id": "d9db691a"
      },
      "source": [
        "# Significant or not:"
      ]
    },
    {
      "cell_type": "code",
      "execution_count": null,
      "id": "2fe032f0",
      "metadata": {
        "id": "2fe032f0",
        "outputId": "167e3405-a146-431b-9ea4-532cdead5c77"
      },
      "outputs": [
        {
          "name": "stdout",
          "output_type": "stream",
          "text": [
            "feature: Gender is significant (p-value: 0.00)\n",
            "feature: Customer Type is significant (p-value: 0.00)\n",
            "feature: Age is significant (p-value: 0.00)\n",
            "feature: Type of Travel is significant (p-value: 0.00)\n",
            "feature: Class is significant (p-value: 0.00)\n",
            "feature: Inflight wifi service is significant (p-value: 0.00)\n",
            "feature: Departure/Arrival time convenient is significant (p-value: 0.00)\n",
            "feature: Ease of Online booking is significant (p-value: 0.00)\n",
            "feature: Gate location is significant (p-value: 0.00)\n",
            "feature: Food and drink is significant (p-value: 0.00)\n",
            "feature: Online boarding is significant (p-value: 0.00)\n",
            "feature: Seat comfort is significant (p-value: 0.00)\n",
            "feature: Inflight entertainment is significant (p-value: 0.00)\n",
            "feature: On-board service is significant (p-value: 0.00)\n",
            "feature: Leg room service is significant (p-value: 0.00)\n",
            "feature: Baggage handling is significant (p-value: 0.00)\n",
            "feature: Checkin service is significant (p-value: 0.00)\n",
            "feature: Inflight service is significant (p-value: 0.00)\n",
            "feature: Cleanliness is significant (p-value: 0.00)\n",
            "feature: Departure Delay in Minutes is significant (p-value: 0.00)\n",
            "feature: Arrival Delay in Minutes is not significant (p-value: 0.08)\n",
            "feature: satisfaction is significant (p-value: 0.00)\n"
          ]
        }
      ],
      "source": [
        "# features and its p-values\n",
        "for param, pval in zip(model_fit.params.index, p_values):\n",
        "    if pval < 0.05:\n",
        "        print(f\"feature: {param} is significant (p-value: {pval:.2f})\")\n",
        "    else:\n",
        "        print(f\"feature: {param} is not significant (p-value: {pval:.2f})\")"
      ]
    },
    {
      "cell_type": "markdown",
      "id": "a5c0dfa7",
      "metadata": {
        "id": "a5c0dfa7"
      },
      "source": [
        "It seems that none of features having value greater than 0.05 means all are signicicant"
      ]
    },
    {
      "cell_type": "code",
      "execution_count": null,
      "id": "52d8b111",
      "metadata": {
        "id": "52d8b111"
      },
      "outputs": [],
      "source": []
    }
  ],
  "metadata": {
    "kernelspec": {
      "display_name": "Python 3 (ipykernel)",
      "language": "python",
      "name": "python3"
    },
    "language_info": {
      "codemirror_mode": {
        "name": "ipython",
        "version": 3
      },
      "file_extension": ".py",
      "mimetype": "text/x-python",
      "name": "python",
      "nbconvert_exporter": "python",
      "pygments_lexer": "ipython3",
      "version": "3.11.4"
    },
    "colab": {
      "provenance": [],
      "include_colab_link": true
    }
  },
  "nbformat": 4,
  "nbformat_minor": 5
}